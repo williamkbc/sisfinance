{
  "nbformat": 4,
  "nbformat_minor": 0,
  "metadata": {
    "colab": {
      "provenance": [],
      "authorship_tag": "ABX9TyM9rNCr0Ek0oXmG+Dygg1Ct",
      "include_colab_link": true
    },
    "kernelspec": {
      "name": "python3",
      "display_name": "Python 3"
    },
    "language_info": {
      "name": "python"
    }
  },
  "cells": [
    {
      "cell_type": "markdown",
      "metadata": {
        "id": "view-in-github",
        "colab_type": "text"
      },
      "source": [
        "<a href=\"https://colab.research.google.com/github/williamkbc/sisfinance/blob/master/PosicaoDaycoval.ipynb\" target=\"_parent\"><img src=\"https://colab.research.google.com/assets/colab-badge.svg\" alt=\"Open In Colab\"/></a>"
      ]
    },
    {
      "cell_type": "markdown",
      "source": [
        "## Transforma o relatório de posição de cotistas do Daycoval no padrão para importação do arquivo no JCOT\n",
        "\n",
        "\n",
        "Acessar o portal do Daycoval para baixar o arquivo de \"Posição de Cotistas\" do dia da transferência\n",
        "[Portal do Daycoval](https://ecode.daycoval.com.br/?status=2)\n",
        "\n",
        "\n",
        "*   Baixar o arquivo de \"Posicao de Cotistas\" no Daycoval Formato TXTUS\n",
        "*   O arquivo TXTUS utiliza ponto no valor, seguindo o padrão dos arquivos de importação do JCOT\n",
        "*   O CNPJ mantém o formato\n",
        "\n"
      ],
      "metadata": {
        "id": "3edrlKmIjNBf"
      }
    },
    {
      "cell_type": "markdown",
      "source": [],
      "metadata": {
        "id": "Wc09-6tRj9zJ"
      }
    },
    {
      "cell_type": "code",
      "source": [
        "# Conectar Google Drive\n",
        "from google.colab import drive\n",
        "drive.mount('/content/drive')\n",
        "\n",
        "# Instalar e configurar PySpark\n",
        "!pip install pyspark\n",
        "from pyspark.sql import SparkSession\n",
        "from pyspark.sql.functions import coalesce, lit, to_date\n",
        "from pyspark.sql.types import DateType\n",
        "\n",
        "\n",
        "\n",
        "# Criar sessão Spark\n",
        "spark = SparkSession.builder \\\n",
        "    .appName(\"LeituraCSVDrive\") \\\n",
        "    .config(\"spark.sql.repl.eagerEval.enabled\", True) \\\n",
        "    .config(\"spark.sql.legacy.timeParserPolicy\", \"LEGACY\") \\\n",
        "    .getOrCreate()\n",
        "\n",
        "# Caminho do arquivo CSV da base Posição Cotistas do Daycoval\n",
        "caminho_csv = '/content/drive/My Drive/PosicaodeCotistasDaycoval/'\n",
        "\n",
        "# Ler CSV com PySpark SQL\n",
        "try:\n",
        "    df_data = spark.read \\\n",
        "        .format(\"csv\") \\\n",
        "        .option(\"header\", \"false\") \\\n",
        "        .option(\"inferSchema\", \"false\") \\\n",
        "        .option(\"delimiter\", \"\\t\") \\\n",
        "        .load(caminho_csv)\n",
        "\n",
        "    print(\"Leitura realizada com sucesso!\")\n",
        "    df_data.show(5)  # Exibe as primeiras linhas\n",
        "\n",
        "    df_data.printSchema()\n",
        "\n",
        "    # Criar view temporária para SQL\n",
        "    df_data.createOrReplaceTempView(\"PosicaoCotistas\")\n",
        "\n",
        "\n",
        "    # Exemplo de consulta SQL\n",
        "    resultado = spark.sql(\"\"\"\n",
        "        SELECT *\n",
        "        FROM PosicaoCotistas\n",
        "        LIMIT 10\n",
        "    \"\"\")\n",
        "\n",
        "    print(\"\\nResultado da consulta SQL:\")\n",
        "    resultado.show()\n",
        "\n",
        "except Exception as e:\n",
        "    print(f\"Erro: {str(e)}\")\n"
      ],
      "metadata": {
        "colab": {
          "base_uri": "https://localhost:8080/"
        },
        "id": "Pby12bYjjNyF",
        "outputId": "8ccd1547-e7ec-4527-a8f4-ce79730d6fa5"
      },
      "execution_count": 273,
      "outputs": [
        {
          "output_type": "stream",
          "name": "stdout",
          "text": [
            "Drive already mounted at /content/drive; to attempt to forcibly remount, call drive.mount(\"/content/drive\", force_remount=True).\n",
            "Requirement already satisfied: pyspark in /usr/local/lib/python3.11/dist-packages (3.5.1)\n",
            "Requirement already satisfied: py4j==0.10.9.7 in /usr/local/lib/python3.11/dist-packages (from pyspark) (0.10.9.7)\n",
            "Leitura realizada com sucesso!\n",
            "+---+-----+---+----------------+--------------------+----------+----------+---+---+---+----+--------------------+--------------------+----+-----+------+----------+------+---------+--------+---------+--------------------+----------+----------+----------+----------+----------+----------+----+----+----+---------+---------+------+------+-------------+----+----+----+----+----+----+----+----+----+----+----+----+----+----------+----+----+--------------+----+----+----+--------------+----+\n",
            "|_c0|  _c1|_c2|             _c3|                 _c4|       _c5|       _c6|_c7|_c8|_c9|_c10|                _c11|                _c12|_c13| _c14|  _c15|      _c16|  _c17|     _c18|    _c19|     _c20|                _c21|      _c22|      _c23|      _c24|      _c25|      _c26|      _c27|_c28|_c29|_c30|     _c31|     _c32|  _c33|  _c34|         _c35|_c36|_c37|_c38|_c39|_c40|_c41|_c42|_c43|_c44|_c45|_c46|_c47|_c48|      _c49|_c50|_c51|          _c52|_c53|_c54|_c55|          _c56|_c57|\n",
            "+---+-----+---+----------------+--------------------+----------+----------+---+---+---+----+--------------------+--------------------+----+-----+------+----------+------+---------+--------+---------+--------------------+----------+----------+----------+----------+----------+----------+----+----+----+---------+---------+------+------+-------------+----+----+----+----+----+----+----+----+----+----+----+----+----+----------+----+----+--------------+----+----+----+--------------+----+\n",
            "|  1|P0045|  V|VIA APPIA FIP CB|VIA APPIA FIP INF...|05/19/2025|05/19/2025|  8|  8|  0|   1|MAS FUNDO DE INVE...|M AVENIDA PAULIST...|    |11743| 88883|01/28/2025| 300.0| 300000.0|89078967|7357275.0|SAO PAULO - SP - ...|05/02/2025|04/15/2024|05/05/2025|05/02/2025| 448166.67| 448166.67| 0.0| 0.0| 0.0| 300000.0| 300000.0| 300.0|49.389|1493.88890325|   N|   N|   N| 0.0| 0.0| 0.0| 0.0| 0.0| 0.0| 0.0| 0.0|   0| 0.0| 148166.67| 0.0|NULL|49750515000106|NULL| 0.0|   0|33632411000159|   0|\n",
            "|  2|P0045|  V|VIA APPIA FIP CB|VIA APPIA FIP INF...|05/19/2025|05/19/2025|  8|  8|  0|   1|CARLOS EUGENIO DE...|R AVENIDA PAULIST...|    |11743|510539|04/15/2024|5000.0|5000000.0|89078967|7656050.0|SAO PAULO - SP - ...|05/02/2025|04/15/2024|05/05/2025|05/02/2025|7469444.52|7469444.52| 0.0| 0.0| 0.0|5000000.0|5000000.0|5000.0|49.389|1493.88890325|   N|   N|   N| 0.0| 0.0| 0.0| 0.0| 0.0| 0.0| 0.0| 0.0|   0| 0.0|2469444.52| 0.0|NULL|49750515000106|NULL| 0.0|   0|   18477330425|   0|\n",
            "|  3|P0045|  V|VIA APPIA FIP CB|VIA APPIA FIP INF...|05/19/2025|05/19/2025|  8|  8|  0|   1|NELSON DA SILVA C...|R AVENIDA PRES JU...|    |11743|570938|04/16/2024|2167.0|2167000.0|89078967|8517878.0|SAO PAULO - SP - ...|05/02/2025|04/16/2024|05/05/2025|05/02/2025|3237257.25|3237257.25| 0.0| 0.0| 0.0|2167000.0|2167000.0|2167.0|49.389|1493.88890325|   N|   N|   N| 0.0| 0.0| 0.0| 0.0| 0.0| 0.0| 0.0| 0.0|   0| 0.0|1070257.25| 0.0|NULL|49750515000106|NULL| 0.0|   0|   13126213898|   0|\n",
            "|  4|P0045|  V|VIA APPIA FIP CB|VIA APPIA FIP INF...|05/19/2025|05/19/2025|  8|  8|  0|   1|JULIANA MARIA TAL...|R RUA PEDROSO ALV...|    |11743|570992|04/16/2024|2167.0|2167000.0|89078967|8518459.0|SAO PAULO - SP - ...|05/02/2025|04/16/2024|05/05/2025|05/02/2025|3237257.25|3237257.25| 0.0| 0.0| 0.0|2167000.0|2167000.0|2167.0|49.389|1493.88890325|   N|   N|   N| 0.0| 0.0| 0.0| 0.0| 0.0| 0.0| 0.0| 0.0|   0| 0.0|1070257.25| 0.0|NULL|49750515000106|NULL| 0.0|   0|   39038301863|   0|\n",
            "|  5|P0045|  V|VIA APPIA FIP CB|VIA APPIA FIP INF...|05/19/2025|05/19/2025|  8|  8|  0|   1|REYNALDO QUARTIM ...|R RUA DOUTOR RUI ...|    |11743|570994|08/22/2024|2167.0|2167000.0|89078967|8518475.0|SAO PAULO - SP - ...|05/02/2025|04/16/2024|05/05/2025|05/02/2025|3237257.25|3237257.25| 0.0| 0.0| 0.0|2167000.0|2167000.0|2167.0|49.389|1493.88890325|   N|   N|   N| 0.0| 0.0| 0.0| 0.0| 0.0| 0.0| 0.0| 0.0|   0| 0.0|1070257.25| 0.0|NULL|49750515000106|NULL| 0.0|   0|    5098114853|   0|\n",
            "+---+-----+---+----------------+--------------------+----------+----------+---+---+---+----+--------------------+--------------------+----+-----+------+----------+------+---------+--------+---------+--------------------+----------+----------+----------+----------+----------+----------+----+----+----+---------+---------+------+------+-------------+----+----+----+----+----+----+----+----+----+----+----+----+----+----------+----+----+--------------+----+----+----+--------------+----+\n",
            "only showing top 5 rows\n",
            "\n",
            "root\n",
            " |-- _c0: string (nullable = true)\n",
            " |-- _c1: string (nullable = true)\n",
            " |-- _c2: string (nullable = true)\n",
            " |-- _c3: string (nullable = true)\n",
            " |-- _c4: string (nullable = true)\n",
            " |-- _c5: string (nullable = true)\n",
            " |-- _c6: string (nullable = true)\n",
            " |-- _c7: string (nullable = true)\n",
            " |-- _c8: string (nullable = true)\n",
            " |-- _c9: string (nullable = true)\n",
            " |-- _c10: string (nullable = true)\n",
            " |-- _c11: string (nullable = true)\n",
            " |-- _c12: string (nullable = true)\n",
            " |-- _c13: string (nullable = true)\n",
            " |-- _c14: string (nullable = true)\n",
            " |-- _c15: string (nullable = true)\n",
            " |-- _c16: string (nullable = true)\n",
            " |-- _c17: string (nullable = true)\n",
            " |-- _c18: string (nullable = true)\n",
            " |-- _c19: string (nullable = true)\n",
            " |-- _c20: string (nullable = true)\n",
            " |-- _c21: string (nullable = true)\n",
            " |-- _c22: string (nullable = true)\n",
            " |-- _c23: string (nullable = true)\n",
            " |-- _c24: string (nullable = true)\n",
            " |-- _c25: string (nullable = true)\n",
            " |-- _c26: string (nullable = true)\n",
            " |-- _c27: string (nullable = true)\n",
            " |-- _c28: string (nullable = true)\n",
            " |-- _c29: string (nullable = true)\n",
            " |-- _c30: string (nullable = true)\n",
            " |-- _c31: string (nullable = true)\n",
            " |-- _c32: string (nullable = true)\n",
            " |-- _c33: string (nullable = true)\n",
            " |-- _c34: string (nullable = true)\n",
            " |-- _c35: string (nullable = true)\n",
            " |-- _c36: string (nullable = true)\n",
            " |-- _c37: string (nullable = true)\n",
            " |-- _c38: string (nullable = true)\n",
            " |-- _c39: string (nullable = true)\n",
            " |-- _c40: string (nullable = true)\n",
            " |-- _c41: string (nullable = true)\n",
            " |-- _c42: string (nullable = true)\n",
            " |-- _c43: string (nullable = true)\n",
            " |-- _c44: string (nullable = true)\n",
            " |-- _c45: string (nullable = true)\n",
            " |-- _c46: string (nullable = true)\n",
            " |-- _c47: string (nullable = true)\n",
            " |-- _c48: string (nullable = true)\n",
            " |-- _c49: string (nullable = true)\n",
            " |-- _c50: string (nullable = true)\n",
            " |-- _c51: string (nullable = true)\n",
            " |-- _c52: string (nullable = true)\n",
            " |-- _c53: string (nullable = true)\n",
            " |-- _c54: string (nullable = true)\n",
            " |-- _c55: string (nullable = true)\n",
            " |-- _c56: string (nullable = true)\n",
            " |-- _c57: string (nullable = true)\n",
            "\n",
            "\n",
            "Resultado da consulta SQL:\n",
            "+---+-----+---+----------------+--------------------+----------+----------+---+---+---+----+--------------------+--------------------+----+-----+------+----------+---------+---------+--------+---------+--------------------+----------+----------+----------+----------+-----------+-----------+----+----+----+---------+---------+---------+------+-------------+----+----+----+----+----+----+----+----+----+----+----+----+----+----------+----+----+--------------+----+----+----+--------------+----+\n",
            "|_c0|  _c1|_c2|             _c3|                 _c4|       _c5|       _c6|_c7|_c8|_c9|_c10|                _c11|                _c12|_c13| _c14|  _c15|      _c16|     _c17|     _c18|    _c19|     _c20|                _c21|      _c22|      _c23|      _c24|      _c25|       _c26|       _c27|_c28|_c29|_c30|     _c31|     _c32|     _c33|  _c34|         _c35|_c36|_c37|_c38|_c39|_c40|_c41|_c42|_c43|_c44|_c45|_c46|_c47|_c48|      _c49|_c50|_c51|          _c52|_c53|_c54|_c55|          _c56|_c57|\n",
            "+---+-----+---+----------------+--------------------+----------+----------+---+---+---+----+--------------------+--------------------+----+-----+------+----------+---------+---------+--------+---------+--------------------+----------+----------+----------+----------+-----------+-----------+----+----+----+---------+---------+---------+------+-------------+----+----+----+----+----+----+----+----+----+----+----+----+----+----------+----+----+--------------+----+----+----+--------------+----+\n",
            "|  1|P0045|  V|VIA APPIA FIP CB|VIA APPIA FIP INF...|05/19/2025|05/19/2025|  8|  8|  0|   1|MAS FUNDO DE INVE...|M AVENIDA PAULIST...|    |11743| 88883|01/28/2025|    300.0| 300000.0|89078967|7357275.0|SAO PAULO - SP - ...|05/02/2025|04/15/2024|05/05/2025|05/02/2025|  448166.67|  448166.67| 0.0| 0.0| 0.0| 300000.0| 300000.0|    300.0|49.389|1493.88890325|   N|   N|   N| 0.0| 0.0| 0.0| 0.0| 0.0| 0.0| 0.0| 0.0|   0| 0.0| 148166.67| 0.0|NULL|49750515000106|NULL| 0.0|   0|33632411000159|   0|\n",
            "|  2|P0045|  V|VIA APPIA FIP CB|VIA APPIA FIP INF...|05/19/2025|05/19/2025|  8|  8|  0|   1|CARLOS EUGENIO DE...|R AVENIDA PAULIST...|    |11743|510539|04/15/2024|   5000.0|5000000.0|89078967|7656050.0|SAO PAULO - SP - ...|05/02/2025|04/15/2024|05/05/2025|05/02/2025| 7469444.52| 7469444.52| 0.0| 0.0| 0.0|5000000.0|5000000.0|   5000.0|49.389|1493.88890325|   N|   N|   N| 0.0| 0.0| 0.0| 0.0| 0.0| 0.0| 0.0| 0.0|   0| 0.0|2469444.52| 0.0|NULL|49750515000106|NULL| 0.0|   0|   18477330425|   0|\n",
            "|  3|P0045|  V|VIA APPIA FIP CB|VIA APPIA FIP INF...|05/19/2025|05/19/2025|  8|  8|  0|   1|NELSON DA SILVA C...|R AVENIDA PRES JU...|    |11743|570938|04/16/2024|   2167.0|2167000.0|89078967|8517878.0|SAO PAULO - SP - ...|05/02/2025|04/16/2024|05/05/2025|05/02/2025| 3237257.25| 3237257.25| 0.0| 0.0| 0.0|2167000.0|2167000.0|   2167.0|49.389|1493.88890325|   N|   N|   N| 0.0| 0.0| 0.0| 0.0| 0.0| 0.0| 0.0| 0.0|   0| 0.0|1070257.25| 0.0|NULL|49750515000106|NULL| 0.0|   0|   13126213898|   0|\n",
            "|  4|P0045|  V|VIA APPIA FIP CB|VIA APPIA FIP INF...|05/19/2025|05/19/2025|  8|  8|  0|   1|JULIANA MARIA TAL...|R RUA PEDROSO ALV...|    |11743|570992|04/16/2024|   2167.0|2167000.0|89078967|8518459.0|SAO PAULO - SP - ...|05/02/2025|04/16/2024|05/05/2025|05/02/2025| 3237257.25| 3237257.25| 0.0| 0.0| 0.0|2167000.0|2167000.0|   2167.0|49.389|1493.88890325|   N|   N|   N| 0.0| 0.0| 0.0| 0.0| 0.0| 0.0| 0.0| 0.0|   0| 0.0|1070257.25| 0.0|NULL|49750515000106|NULL| 0.0|   0|   39038301863|   0|\n",
            "|  5|P0045|  V|VIA APPIA FIP CB|VIA APPIA FIP INF...|05/19/2025|05/19/2025|  8|  8|  0|   1|REYNALDO QUARTIM ...|R RUA DOUTOR RUI ...|    |11743|570994|08/22/2024|   2167.0|2167000.0|89078967|8518475.0|SAO PAULO - SP - ...|05/02/2025|04/16/2024|05/05/2025|05/02/2025| 3237257.25| 3237257.25| 0.0| 0.0| 0.0|2167000.0|2167000.0|   2167.0|49.389|1493.88890325|   N|   N|   N| 0.0| 0.0| 0.0| 0.0| 0.0| 0.0| 0.0| 0.0|   0| 0.0|1070257.25| 0.0|NULL|49750515000106|NULL| 0.0|   0|    5098114853|   0|\n",
            "|  6|P0045|  V|VIA APPIA FIP CB|VIA APPIA FIP INF...|05/19/2025|05/19/2025|  8|  8|  0|   1|FLAVIO OGNIBENE G...|R RUA PEDROSO ALV...|    |11743|596008|04/16/2024|  15000.0|15000000.|89078967|8768200.0|SAO PAULO - SP - ...|05/02/2025|04/16/2024|05/05/2025|05/02/2025|22408333.55|22408333.55| 0.0| 0.0| 0.0|15000000.|15000000.|  15000.0|49.389|1493.88890325|   N|   N|   N| 0.0| 0.0| 0.0| 0.0| 0.0| 0.0| 0.0| 0.0|   0| 0.0|7408333.55| 0.0|NULL|49750515000106|NULL| 0.0|   0|    5613979880|   0|\n",
            "|  7|P0045|  V|VIA APPIA FIP CB|VIA APPIA FIP INF...|05/19/2025|05/19/2025|  8|  8|  0|   1|   LARS ERNEST BADER|R PRAIA BOTAFOGO ...|    |11743|616387|04/16/2024|  15000.0|15000000.|89078967|8972001.0|RIO DE JANEIRO - ...|05/02/2025|04/16/2024|05/05/2025|05/02/2025|22408333.55|22408333.55| 0.0| 0.0| 0.0|15000000.|15000000.|  15000.0|49.389|1493.88890325|   N|   N|   N| 0.0| 0.0| 0.0| 0.0| 0.0| 0.0| 0.0| 0.0|   0| 0.0|7408333.55| 0.0|NULL|49750515000106|NULL| 0.0|   0|   70800209133|   0|\n",
            "|  8|P0045|  V|VIA APPIA FIP CB|VIA APPIA FIP INF...|05/19/2025|05/19/2025|  8|  8|  0|   1|     ROBERTO GHELMAN|R R CARLOS GOIS 6...|    |11743|616391|04/16/2024|   1500.0|1500000.0|89078967|8972044.0|RIO DE JANEIRO - ...|05/02/2025|04/16/2024|05/05/2025|05/02/2025| 2240833.35| 2240833.35| 0.0| 0.0| 0.0|1500000.0|1500000.0|   1500.0|49.389|1493.88890325|   N|   N|   N| 0.0| 0.0| 0.0| 0.0| 0.0| 0.0| 0.0| 0.0|   0| 0.0| 740833.35| 0.0|NULL|49750515000106|NULL| 0.0|   0|    7999616710|   0|\n",
            "|  9|P0045|  V|VIA APPIA FIP CB|VIA APPIA FIP INF...|05/19/2025|05/19/2025|  8|  8|  0|   1|SPECTRA I FF FUND...|M PR DE BOTAFOGO ...|    |11743|618740|04/16/2024|2013.6899|2013689.9|89078967|8995524.0|RIO DE JANEIRO - ...|05/02/2025|04/16/2024|05/05/2025|05/02/2025|  3008229.0|  3008229.0| 0.0| 0.0| 0.0|2013689.9|2013689.9|2013.6899|49.389|1493.88890325|   N|   N|   N| 0.0| 0.0| 0.0| 0.0| 0.0| 0.0| 0.0| 0.0|   0| 0.0|  994539.1| 0.0|NULL|49750515000106|NULL| 0.0|   0|52170037000161|   0|\n",
            "| 10|P0045|  V|VIA APPIA FIP CB|VIA APPIA FIP INF...|05/19/2025|05/19/2025|  8|  8|  0|   1|SELMA ROSENZWEIG ...|R QUINTA PENHA LO...|    |11743|618760|04/12/2024|   4000.0|4000000.0|89078967|8995729.0|           00000-000|05/02/2025|04/12/2024|05/05/2025|05/02/2025| 5975555.61| 5975555.61| 0.0| 0.0| 0.0|4000000.0|4000000.0|   4000.0|49.389|1493.88890325|   N|   N|   N| 0.0| 0.0| 0.0| 0.0| 0.0| 0.0| 0.0| 0.0|   0| 0.0|1975555.61| 0.0|NULL|49750515000106|NULL| 0.0|   0|   69741425791|   0|\n",
            "+---+-----+---+----------------+--------------------+----------+----------+---+---+---+----+--------------------+--------------------+----+-----+------+----------+---------+---------+--------+---------+--------------------+----------+----------+----------+----------+-----------+-----------+----+----+----+---------+---------+---------+------+-------------+----+----+----+----+----+----+----+----+----+----+----+----+----+----------+----+----+--------------+----+----+----+--------------+----+\n",
            "\n"
          ]
        }
      ]
    },
    {
      "cell_type": "markdown",
      "source": [
        "## Renomeando o cabeçalho do dataframe"
      ],
      "metadata": {
        "id": "9iplVH-V4YP8"
      }
    },
    {
      "cell_type": "code",
      "source": [
        "# Usar novo dataframe para renomear cabeçalho conforme CSV do Daycoval\n",
        "novos_nomes = [\"0\", \"P0045\", \"C\", \"NomeCCrt\", \"NomeLCrt\", \"DataAtual\", \"CODataAtual\", \"CODecNumCota\", \"CODecValCota\", \"CODiasCarenciaRend\" , \"TpIntCrt\", \"NomeCli\", \"Endereco\", \"DigitoAlfa\" , \"Assessor\", \"Assessor2\", \"DataIngresso\", \"SaldoCotasAtual\", \"SaldoInveAtual\", \"Carteira\", \"Cliente\", \"CidEstCEP\", \"DataPos\", \"DataApl\", \"ProxAniv\", \"UltAniv\", \"ValorAtu\", \"ValorLiq\", \"IR\", \"IOF\", \"Taxas\", \"Investimento\", \"SaldoInv\", \"SaldoCotas\", \"Rent\", \"CotaAtual\", \"bAplBloq\", \"bEstqAnt\", \"bTrataCCDI\", \"ValorAtuAnt\", \"ValorLiqAnt\", \"IRAnt\", \"IOFAnt\", \"TaxasAnt\", \"InvestimentoAnt\", \"SaldoInvAnt\", \"SaldoCotasAnt\", \"CritrApurIR\", \"CotaMedia\", \"Rendimento\", \"BaseIR\", \"CdIf\", \"CPF_CNPJ\", \"Administrador\", \"CPFCNPJAdm\", \"TpPlayAdm\", \"CPFCNPJCliente\", \"CPFCNPJDistribuidor\"]\n",
        "\n",
        "# Verifica se o número de novos nomes coincide com o número de colunas\n",
        "if len(novos_nomes) == len(df_data.columns):\n",
        "    df_posicaocotistas = df_data.toDF(*novos_nomes)\n",
        "    # Mostra o DataFrame com todas as colunas renomeadas\n",
        "    df_posicaocotistas.show(5)\n",
        "else:\n",
        "    print(\"Erro: O número de novos nomes não coincide com o número de colunas no DataFrame de dados.\")"
      ],
      "metadata": {
        "colab": {
          "base_uri": "https://localhost:8080/"
        },
        "id": "ap2c-vMA0S3j",
        "outputId": "d71fda29-889c-4f3c-8e10-8ec27d601ba4"
      },
      "execution_count": 274,
      "outputs": [
        {
          "output_type": "stream",
          "name": "stdout",
          "text": [
            "+---+-----+---+----------------+--------------------+----------+-----------+------------+------------+------------------+--------+--------------------+--------------------+----------+--------+---------+------------+---------------+--------------+--------+---------+--------------------+----------+----------+----------+----------+----------+----------+---+---+-----+------------+---------+----------+------+-------------+--------+--------+----------+-----------+-----------+-----+------+--------+---------------+-----------+-------------+-----------+---------+----------+------+----+--------------+-------------+----------+---------+--------------+-------------------+\n",
            "|  0|P0045|  C|        NomeCCrt|            NomeLCrt| DataAtual|CODataAtual|CODecNumCota|CODecValCota|CODiasCarenciaRend|TpIntCrt|             NomeCli|            Endereco|DigitoAlfa|Assessor|Assessor2|DataIngresso|SaldoCotasAtual|SaldoInveAtual|Carteira|  Cliente|           CidEstCEP|   DataPos|   DataApl|  ProxAniv|   UltAniv|  ValorAtu|  ValorLiq| IR|IOF|Taxas|Investimento| SaldoInv|SaldoCotas|  Rent|    CotaAtual|bAplBloq|bEstqAnt|bTrataCCDI|ValorAtuAnt|ValorLiqAnt|IRAnt|IOFAnt|TaxasAnt|InvestimentoAnt|SaldoInvAnt|SaldoCotasAnt|CritrApurIR|CotaMedia|Rendimento|BaseIR|CdIf|      CPF_CNPJ|Administrador|CPFCNPJAdm|TpPlayAdm|CPFCNPJCliente|CPFCNPJDistribuidor|\n",
            "+---+-----+---+----------------+--------------------+----------+-----------+------------+------------+------------------+--------+--------------------+--------------------+----------+--------+---------+------------+---------------+--------------+--------+---------+--------------------+----------+----------+----------+----------+----------+----------+---+---+-----+------------+---------+----------+------+-------------+--------+--------+----------+-----------+-----------+-----+------+--------+---------------+-----------+-------------+-----------+---------+----------+------+----+--------------+-------------+----------+---------+--------------+-------------------+\n",
            "|  1|P0045|  V|VIA APPIA FIP CB|VIA APPIA FIP INF...|05/19/2025| 05/19/2025|           8|           8|                 0|       1|MAS FUNDO DE INVE...|M AVENIDA PAULIST...|          |   11743|    88883|  01/28/2025|          300.0|      300000.0|89078967|7357275.0|SAO PAULO - SP - ...|05/02/2025|04/15/2024|05/05/2025|05/02/2025| 448166.67| 448166.67|0.0|0.0|  0.0|    300000.0| 300000.0|     300.0|49.389|1493.88890325|       N|       N|         N|        0.0|        0.0|  0.0|   0.0|     0.0|            0.0|        0.0|          0.0|          0|      0.0| 148166.67|   0.0|NULL|49750515000106|         NULL|       0.0|        0|33632411000159|                  0|\n",
            "|  2|P0045|  V|VIA APPIA FIP CB|VIA APPIA FIP INF...|05/19/2025| 05/19/2025|           8|           8|                 0|       1|CARLOS EUGENIO DE...|R AVENIDA PAULIST...|          |   11743|   510539|  04/15/2024|         5000.0|     5000000.0|89078967|7656050.0|SAO PAULO - SP - ...|05/02/2025|04/15/2024|05/05/2025|05/02/2025|7469444.52|7469444.52|0.0|0.0|  0.0|   5000000.0|5000000.0|    5000.0|49.389|1493.88890325|       N|       N|         N|        0.0|        0.0|  0.0|   0.0|     0.0|            0.0|        0.0|          0.0|          0|      0.0|2469444.52|   0.0|NULL|49750515000106|         NULL|       0.0|        0|   18477330425|                  0|\n",
            "|  3|P0045|  V|VIA APPIA FIP CB|VIA APPIA FIP INF...|05/19/2025| 05/19/2025|           8|           8|                 0|       1|NELSON DA SILVA C...|R AVENIDA PRES JU...|          |   11743|   570938|  04/16/2024|         2167.0|     2167000.0|89078967|8517878.0|SAO PAULO - SP - ...|05/02/2025|04/16/2024|05/05/2025|05/02/2025|3237257.25|3237257.25|0.0|0.0|  0.0|   2167000.0|2167000.0|    2167.0|49.389|1493.88890325|       N|       N|         N|        0.0|        0.0|  0.0|   0.0|     0.0|            0.0|        0.0|          0.0|          0|      0.0|1070257.25|   0.0|NULL|49750515000106|         NULL|       0.0|        0|   13126213898|                  0|\n",
            "|  4|P0045|  V|VIA APPIA FIP CB|VIA APPIA FIP INF...|05/19/2025| 05/19/2025|           8|           8|                 0|       1|JULIANA MARIA TAL...|R RUA PEDROSO ALV...|          |   11743|   570992|  04/16/2024|         2167.0|     2167000.0|89078967|8518459.0|SAO PAULO - SP - ...|05/02/2025|04/16/2024|05/05/2025|05/02/2025|3237257.25|3237257.25|0.0|0.0|  0.0|   2167000.0|2167000.0|    2167.0|49.389|1493.88890325|       N|       N|         N|        0.0|        0.0|  0.0|   0.0|     0.0|            0.0|        0.0|          0.0|          0|      0.0|1070257.25|   0.0|NULL|49750515000106|         NULL|       0.0|        0|   39038301863|                  0|\n",
            "|  5|P0045|  V|VIA APPIA FIP CB|VIA APPIA FIP INF...|05/19/2025| 05/19/2025|           8|           8|                 0|       1|REYNALDO QUARTIM ...|R RUA DOUTOR RUI ...|          |   11743|   570994|  08/22/2024|         2167.0|     2167000.0|89078967|8518475.0|SAO PAULO - SP - ...|05/02/2025|04/16/2024|05/05/2025|05/02/2025|3237257.25|3237257.25|0.0|0.0|  0.0|   2167000.0|2167000.0|    2167.0|49.389|1493.88890325|       N|       N|         N|        0.0|        0.0|  0.0|   0.0|     0.0|            0.0|        0.0|          0.0|          0|      0.0|1070257.25|   0.0|NULL|49750515000106|         NULL|       0.0|        0|    5098114853|                  0|\n",
            "+---+-----+---+----------------+--------------------+----------+-----------+------------+------------+------------------+--------+--------------------+--------------------+----------+--------+---------+------------+---------------+--------------+--------+---------+--------------------+----------+----------+----------+----------+----------+----------+---+---+-----+------------+---------+----------+------+-------------+--------+--------+----------+-----------+-----------+-----+------+--------+---------------+-----------+-------------+-----------+---------+----------+------+----+--------------+-------------+----------+---------+--------------+-------------------+\n",
            "only showing top 5 rows\n",
            "\n"
          ]
        }
      ]
    },
    {
      "cell_type": "markdown",
      "source": [
        "Filtrar as informações para criar a planilha de cadastro de cotistas"
      ],
      "metadata": {
        "id": "euJ7ODzz4jOc"
      }
    },
    {
      "cell_type": "code",
      "source": [
        "\n",
        "df_posicaocotistas.createOrReplaceTempView(\"cotistas\")\n",
        "\n",
        "df_cotista = spark.sql(\"\"\"\n",
        "  SELECT  DISTINCT NomeCli,\n",
        "                   CPFCNPJCliente,\n",
        "                   DataIngresso,\n",
        "                   CASE WHEN LENGTH(CPFCNPJCliente) <= 11 THEN 'PF'\n",
        "                        WHEN LENGTH(CPFCNPJCliente) >= 12 THEN 'PJ'\n",
        "                        ELSE 'Outro'\n",
        "                   END AS TipoCliente\n",
        "  from cotistas\n",
        "  GROUP BY NomeCli, CPFCNPJCliente, DataIngresso\n",
        "\n",
        "      \"\"\")\n",
        "\n",
        "df_cotista.show(100)"
      ],
      "metadata": {
        "colab": {
          "base_uri": "https://localhost:8080/"
        },
        "id": "C89MGXnPK3Ga",
        "outputId": "1ec845e1-198c-4bf9-8edd-e4b7d1c75a03"
      },
      "execution_count": 275,
      "outputs": [
        {
          "output_type": "stream",
          "name": "stdout",
          "text": [
            "+--------------------+--------------+------------+-----------+\n",
            "|             NomeCli|CPFCNPJCliente|DataIngresso|TipoCliente|\n",
            "+--------------------+--------------+------------+-----------+\n",
            "|FACT ENTERPRISE F...|17867471000102|  08/22/2024|         PJ|\n",
            "|JOAO VINICIUS PRI...|   24848181810|  04/11/2024|         PF|\n",
            "|   ARMANDO VERISSIMO|   31144513812|  04/15/2024|         PF|\n",
            "|BRUNO MENDONCA PI...|    8112049602|  04/11/2024|         PF|\n",
            "|SPARTAN FUNDO DE ...| 9305287000132|  08/22/2024|         PJ|\n",
            "|FLAVIA PERMAN TEN...|    1992077479|  04/15/2024|         PF|\n",
            "|  LARISSA BORENSTEIN|   15164684810|  08/22/2024|         PF|\n",
            "|JOAQUIM PEDRO MON...|    8508146779|  01/22/2025|         PF|\n",
            "|CELI ELISABETE JU...|   42891280768|  01/22/2025|         PF|\n",
            "|       ANDRE GHELMAN|    8630796790|  04/16/2024|         PF|\n",
            "|PEDRO AUGUSTO PRO...|   25022314851|  08/22/2024|         PF|\n",
            "|         ANDRE BIAGI|    1981661840|  04/15/2024|         PF|\n",
            "|HELENA JATOBA BRE...|    8393972400|  08/22/2024|         PF|\n",
            "|RICARDO SANSONE NODA|   93913800859|  03/14/2025|         PF|\n",
            "|GRAVITAS FUNDO DE...|20468036000101|  02/20/2025|         PJ|\n",
            "|KINITRO EAGLE FUN...|11616374000152|  08/22/2024|         PJ|\n",
            "|JOSE AGNALDO ANDR...|   63129663568|  04/15/2024|         PF|\n",
            "|RAUL ERMIRIO DE M...|   41057982865|  05/24/2024|         PF|\n",
            "|AGUAS ROJAS LIMIT...|54293524000147|  04/16/2024|         PJ|\n",
            "|  JAN GUNNAR KARSTEN|      40064964|  08/22/2024|         PF|\n",
            "|RICARDO KATZ DE C...|   19760981815|  04/15/2024|         PF|\n",
            "|MARCOS BARBOZA GOMEZ|   15185357800|  08/22/2024|         PF|\n",
            "|  RONIE LANGER TERNI|   21983124842|  08/22/2024|         PF|\n",
            "|LUIZ HENRIQUE GUI...|   80646700120|  08/22/2024|         PF|\n",
            "|  RAFAEL MUNDIM PENA|    8374633603|  04/11/2024|         PF|\n",
            "|SIGNAL CAPITAL SP...|47102668000103|  08/22/2024|         PJ|\n",
            "|IGFWM ASSET PERFO...|40962754000147|  04/12/2024|         PJ|\n",
            "|PAULO LOPES GUIMA...|   34713602809|  08/22/2024|         PF|\n",
            "|     RAPHAEL GHELMAN|    8019399763|  04/15/2024|         PF|\n",
            "| FABIO BARBOZA GOMEZ|   18122398820|  08/22/2024|         PF|\n",
            "|JOAO HENRIQUE FIO...|   72642017753|  08/22/2024|         PF|\n",
            "|SERGIO FRANCISCO ...|   72509589768|  01/22/2025|         PF|\n",
            "|   LARS ERNEST BADER|   70800209133|  04/16/2024|         PF|\n",
            "|LUCIO DE CASTRO A...|    6109470872|  08/22/2024|         PF|\n",
            "|  PAULO SERGIO ZOPPI|   99969912887|  04/16/2024|         PF|\n",
            "|CASTELLO FUND SCS...|54026814000124|  04/16/2024|         PJ|\n",
            "|ROBERTO SCHLOESSE...|   81811578934|  08/22/2024|         PF|\n",
            "|LUIZ OTAVIO SOUZA...|   36810220895|  04/11/2024|         PF|\n",
            "| DANIEL LIAM RUMMERY|   70080689132|  04/15/2024|         PF|\n",
            "| HELIO BORENSTEIN II|   12703994893|  08/22/2024|         PF|\n",
            "|TIMOTHY JOHN CHAM...|   23443620884|  08/22/2024|         PF|\n",
            "|RICARDO LEVI D AN...|   25979203800|  06/19/2024|         PF|\n",
            "|IGFWM DESEMPENHO ...|40963370000149|  04/12/2024|         PJ|\n",
            "|EDUARDO DUDER PEI...|   90453387500|  08/22/2024|         PF|\n",
            "|    RAFAEL TENENBAUM|   13321276739|  04/15/2024|         PF|\n",
            "|          DENNIS KAC|   28559431837|  08/22/2024|         PF|\n",
            "|MARIANA LOYOLA FE...|    1250082609|  08/22/2024|         PF|\n",
            "|LUIS VITOR DE LIM...|   97416819849|  04/16/2024|         PF|\n",
            "|ALEXANDRE MAIA CO...|   53465644387|  03/18/2025|         PF|\n",
            "|     ANDRE TENENBAUM|    9428818771|  04/15/2024|         PF|\n",
            "|GABRIEL PAGANINI ...|   12475751797|  08/22/2024|         PF|\n",
            "|GALIA III FUNDO D...| 7338005000178|  08/22/2024|         PJ|\n",
            "|MIGUEL CARLOS RIELLA|   23382953900|  04/15/2024|         PF|\n",
            "|MONICA FALTAY KAT...|   30161310800|  04/15/2024|         PF|\n",
            "|     FERNANDO GELMAN|   14025127830|  04/15/2024|         PF|\n",
            "|          JOAO GOMEZ|     719609887|  08/22/2024|         PF|\n",
            "|ALEXANDRE CRAVEIR...|   27315074899|  04/15/2024|         PF|\n",
            "|HELENA BRENNAND D...|   21272301400|  08/22/2024|         PF|\n",
            "|ALESSANDRO MANTOV...|   26715292876|  11/27/2024|         PF|\n",
            "|SERGIO ALBERTO MO...|     726028720|  01/22/2025|         PF|\n",
            "|BRAIN GEPETO FUND...|35504728000135|  08/22/2024|         PJ|\n",
            "|RENATA KUPERMAN R...|    5706987742|  04/15/2024|         PF|\n",
            "| MAURO RACHED RACHED|    7487963802|  08/22/2024|         PF|\n",
            "|BRAIN 2021 ALT FU...|40970256000146|  08/22/2024|         PJ|\n",
            "|FABIO FLEIDER WOL...|   21489862870|  08/22/2024|         PF|\n",
            "|BTG PACTUAL HOLDI...| 7110438000171|  05/24/2024|         PJ|\n",
            "|HUMBERTO PEIXOTO ...|   91965608515|  04/10/2024|         PF|\n",
            "|MAX FUNDO DE INVE...| 3998735000144|  08/22/2024|         PJ|\n",
            "|GABRIELA FONTES K...|   37040256827|  04/11/2024|         PF|\n",
            "|LUIZ OTAVIO GOMES...|    2120879400|  04/15/2024|         PF|\n",
            "|PAULO PEREIRA MIGUEL|   19520065890|  08/22/2024|         PF|\n",
            "|     BRUNO TENENBAUM|   10534074758|  04/15/2024|         PF|\n",
            "|   PEDRO LUIZ CERIZE|   77448731653|  04/15/2024|         PF|\n",
            "|        FLAVIA DWECK|   10788497731|  04/15/2024|         PF|\n",
            "|  RODRIGO LUIS EBOLI|   10058793704|  08/22/2024|         PF|\n",
            "|DANIELA MARIA SCH...|   21644496810|  08/22/2024|         PF|\n",
            "|RICARDO PANZENBOE...|   28528631893|  04/15/2024|         PF|\n",
            "|FRANCISCO JOSE FR...|   48990477549|  08/22/2024|         PF|\n",
            "|ATLANTA FUNDO DE ...|35847497000162|  08/22/2024|         PJ|\n",
            "|LEONARDO KAUFMAN ...|   14321136741|  08/22/2024|         PF|\n",
            "|ANDRE DE CAMARGO ...|   35404774894|  05/15/2024|         PF|\n",
            "|CARLOS EUGENIO DE...|   18477330425|  04/15/2024|         PF|\n",
            "|BARCINO ESTEVE FILHO|   12471658504|  08/22/2024|         PF|\n",
            "|SERGIO DE PAIVA V...|    3782718810|  04/15/2024|         PF|\n",
            "|SPECTRA VI BRASIL...|46280024000142|  08/22/2024|         PJ|\n",
            "|PEDRO GRENDENE BA...|    9864784072|  05/15/2024|         PF|\n",
            "|  TATIANA BORENSTEIN|   10168703882|  08/22/2024|         PF|\n",
            "|MAURICIO DOS SANT...|   18271246879|  08/22/2024|         PF|\n",
            "|REYNALDO QUARTIM ...|    5098114853|  08/22/2024|         PF|\n",
            "|HEITOR GHISSONI D...|    1955632553|  04/10/2024|         PF|\n",
            "|CRISTIANO RORIZ C...|   80158510178|  08/22/2024|         PF|\n",
            "|BRAIN NOVO BITTEN...|11145383000102|  08/22/2024|         PJ|\n",
            "|     ROBERTO GHELMAN|    7999616710|  04/16/2024|         PF|\n",
            "|    IDA STUVE TREACY|   23894045884|  04/15/2024|         PF|\n",
            "|RUDIMAR TADEU BOR...|   19865112000|  08/22/2024|         PF|\n",
            "|BRAIN KOLI ALTERN...|51718479000137|  08/22/2024|         PJ|\n",
            "|HENRIQUE ERMIRIO ...|   41057983837|  05/24/2024|         PF|\n",
            "|          RAUL FUCHS|   29062753876|  04/15/2024|         PF|\n",
            "|ADRIANO RAPOSO DO...|   16251128828|  04/15/2024|         PF|\n",
            "|DIANA CZERESNIA W...|   22062233841|  04/11/2024|         PF|\n",
            "+--------------------+--------------+------------+-----------+\n",
            "only showing top 100 rows\n",
            "\n"
          ]
        }
      ]
    },
    {
      "cell_type": "code",
      "source": [
        "df_posicaocotistas.createOrReplaceTempView(\"posicaocotistas\")\n",
        "\n",
        "movimento = spark.sql(\"\"\"\n",
        "SELECT\n",
        "    NomeCCrt AS FUNDO,\n",
        "    NomeCli AS COTISTA,\n",
        "    CPFCNPJCliente,\n",
        "    Investimento,\n",
        "    DataApl,\n",
        "    SaldoCotas\n",
        "    ValorAtu,\n",
        "    IR,\n",
        "    IOF,\n",
        "    CASE\n",
        "        WHEN LENGTH(CPFCNPJCliente) <= 11 THEN 'PF'\n",
        "        WHEN LENGTH(CPFCNPJCliente) = 14 THEN 'PJ'\n",
        "        ELSE 'Outro'\n",
        "    END AS TipoCliente\n",
        "FROM posicaocotistas\n",
        "\n",
        "      \"\"\")\n",
        "\n",
        "movimento.show(50)"
      ],
      "metadata": {
        "id": "m9a2Am1mj3GV",
        "colab": {
          "base_uri": "https://localhost:8080/"
        },
        "outputId": "51817a54-75e2-497c-b062-7dbe40b35c18"
      },
      "execution_count": 276,
      "outputs": [
        {
          "output_type": "stream",
          "name": "stdout",
          "text": [
            "+----------------+--------------------+--------------+------------+----------+---------+--------+---+-----------+\n",
            "|           FUNDO|             COTISTA|CPFCNPJCliente|Investimento|   DataApl| ValorAtu|      IR|IOF|TipoCliente|\n",
            "+----------------+--------------------+--------------+------------+----------+---------+--------+---+-----------+\n",
            "|VIA APPIA FIP CB|MAS FUNDO DE INVE...|33632411000159|    300000.0|04/15/2024|    300.0|     0.0|0.0|         PJ|\n",
            "|VIA APPIA FIP CB|CARLOS EUGENIO DE...|   18477330425|   5000000.0|04/15/2024|   5000.0|     0.0|0.0|         PF|\n",
            "|VIA APPIA FIP CB|NELSON DA SILVA C...|   13126213898|   2167000.0|04/16/2024|   2167.0|     0.0|0.0|         PF|\n",
            "|VIA APPIA FIP CB|JULIANA MARIA TAL...|   39038301863|   2167000.0|04/16/2024|   2167.0|     0.0|0.0|         PF|\n",
            "|VIA APPIA FIP CB|REYNALDO QUARTIM ...|    5098114853|   2167000.0|04/16/2024|   2167.0|     0.0|0.0|         PF|\n",
            "|VIA APPIA FIP CB|FLAVIO OGNIBENE G...|    5613979880|   15000000.|04/16/2024|  15000.0|     0.0|0.0|         PF|\n",
            "|VIA APPIA FIP CB|   LARS ERNEST BADER|   70800209133|   15000000.|04/16/2024|  15000.0|     0.0|0.0|         PF|\n",
            "|VIA APPIA FIP CB|     ROBERTO GHELMAN|    7999616710|   1500000.0|04/16/2024|   1500.0|     0.0|0.0|         PF|\n",
            "|VIA APPIA FIP CB|SPECTRA I FF FUND...|52170037000161|   2013689.9|04/16/2024|2013.6899|     0.0|0.0|         PJ|\n",
            "|VIA APPIA FIP CB|SELMA ROSENZWEIG ...|   69741425791|   4000000.0|04/12/2024|   4000.0|     0.0|0.0|         PF|\n",
            "|VIA APPIA FIP CB|FACT ENTERPRISE F...|17867471000102|   5000000.0|04/16/2024|   5000.0|     0.0|0.0|         PJ|\n",
            "|VIA APPIA FIP CB|COLOSSUS PARTICIP...|30224439000169|   1000000.0|04/12/2024|   1000.0|74083.33|0.0|         PJ|\n",
            "|VIA APPIA FIP CB|IGFWM DESEMPENHO ...|40963370000149|   2000000.0|04/12/2024|   2000.0|     0.0|0.0|         PJ|\n",
            "|VIA APPIA FIP CB|IGFWM ASSET PERFO...|40962754000147|   3000000.0|04/12/2024|   3000.0|     0.0|0.0|         PJ|\n",
            "|VIA APPIA FIP CB|     ARTUR KALAIGIAN|      88920836|   1600000.0|04/15/2024|   1600.0|     0.0|0.0|         PF|\n",
            "|VIA APPIA FIP CB|LAZ II FUNDO DE I...|20403326000177|    350000.0|04/15/2024|    350.0|     0.0|0.0|         PJ|\n",
            "|VIA APPIA FIP CB|PORT 210 FUNDO DE...|53274225000100|   15000000.|04/16/2024|  15000.0|     0.0|0.0|         PJ|\n",
            "|VIA APPIA FIP CB|ADRIANA PERMAN TE...|     809574470|    250000.0|04/15/2024|    250.0|     0.0|0.0|         PF|\n",
            "|VIA APPIA FIP CB|TRES MENINAS PART...|29878711000145|   1000000.0|04/16/2024|   1000.0|74083.33|0.0|         PJ|\n",
            "|VIA APPIA FIP CB|HEITOR GHISSONI D...|    1955632553|    400000.0|04/10/2024|    400.0|     0.0|0.0|         PF|\n",
            "|VIA APPIA FIP CB| DANIEL VIANNA RAMOS|    1962350576|    100000.0|04/10/2024|    100.0|     0.0|0.0|         PF|\n",
            "|VIA APPIA FIP CB|         ANDRE BIAGI|    1981661840|   1000000.0|04/15/2024|   1000.0|     0.0|0.0|         PF|\n",
            "|VIA APPIA FIP CB|FLAVIA PERMAN TEN...|    1992077479|    350000.0|04/15/2024|    350.0|     0.0|0.0|         PF|\n",
            "|VIA APPIA FIP CB|LUIZ OTAVIO GOMES...|    2120879400|   3700000.0|04/15/2024|   3700.0|     0.0|0.0|         PF|\n",
            "|VIA APPIA FIP CB|SERGIO DE PAIVA V...|    3782718810|    100000.0|04/15/2024|    100.0|     0.0|0.0|         PF|\n",
            "|VIA APPIA FIP CB|RENATA KUPERMAN R...|    5706987742|   1000000.0|04/15/2024|   1000.0|     0.0|0.0|         PF|\n",
            "|VIA APPIA FIP CB|     RAPHAEL GHELMAN|    8019399763|   1500000.0|04/15/2024|   1500.0|     0.0|0.0|         PF|\n",
            "|VIA APPIA FIP CB|BRUNO MENDONCA PI...|    8112049602|    500000.0|04/11/2024|    500.0|     0.0|0.0|         PF|\n",
            "|VIA APPIA FIP CB|  RAFAEL MUNDIM PENA|    8374633603|    500000.0|04/11/2024|    500.0|     0.0|0.0|         PF|\n",
            "|VIA APPIA FIP CB|       ANDRE GHELMAN|    8630796790|   1500000.0|04/16/2024|   1500.0|     0.0|0.0|         PF|\n",
            "|VIA APPIA FIP CB|RAPHAEL BAPTISTA ...|    8779324843|    500000.0|04/15/2024|    500.0|     0.0|0.0|         PF|\n",
            "|VIA APPIA FIP CB|MARCIA KUPERMAN G...|    9098603785|   1000000.0|04/15/2024|   1000.0|     0.0|0.0|         PF|\n",
            "|VIA APPIA FIP CB|     ANDRE TENENBAUM|    9428818771|   1000000.0|04/15/2024|   1000.0|     0.0|0.0|         PF|\n",
            "|VIA APPIA FIP CB|PEDRO GRENDENE BA...|    9864784072|   10000000.|05/15/2024|  10000.0|     0.0|0.0|         PF|\n",
            "|VIA APPIA FIP CB|     BRUNO TENENBAUM|   10534074758|   1000000.0|04/15/2024|   1000.0|     0.0|0.0|         PF|\n",
            "|VIA APPIA FIP CB|        FLAVIA DWECK|   10788497731|   1000000.0|04/15/2024|   1000.0|     0.0|0.0|         PF|\n",
            "|VIA APPIA FIP CB|MARIA DO CARMO MA...|   11873668899|    700000.0|04/15/2024|    700.0|     0.0|0.0|         PF|\n",
            "|VIA APPIA FIP CB|CLAUDIO NUBAR KAL...|   12572484803|   1900000.0|04/16/2024|   1900.0|     0.0|0.0|         PF|\n",
            "|VIA APPIA FIP CB|STEFANO MIAGOSTOVICH|   13148376722|   1000000.0|04/10/2024|   1000.0|     0.0|0.0|         PF|\n",
            "|VIA APPIA FIP CB|ANA PAULA MADEIRA...|   13286530808|    200000.0|04/15/2024|    200.0|     0.0|0.0|         PF|\n",
            "|VIA APPIA FIP CB|    RAFAEL TENENBAUM|   13321276739|   1000000.0|04/15/2024|   1000.0|     0.0|0.0|         PF|\n",
            "|VIA APPIA FIP CB|     FERNANDO GELMAN|   14025127830|    150000.0|04/15/2024|    150.0|     0.0|0.0|         PF|\n",
            "|VIA APPIA FIP CB|JAIME JOSE PEREZ ...|   14890271813|    100000.0|04/15/2024|    100.0|     0.0|0.0|         PF|\n",
            "|VIA APPIA FIP CB|RODOLPHO PANZENBO...|   16582700880|    500000.0|04/15/2024|    500.0|     0.0|0.0|         PF|\n",
            "|VIA APPIA FIP CB|JOSE ROBERTO CRAI...|   18846734815|    700000.0|04/15/2024|    700.0|     0.0|0.0|         PF|\n",
            "|VIA APPIA FIP CB|RICARDO KATZ DE C...|   19760981815|    450000.0|04/15/2024|    450.0|     0.0|0.0|         PF|\n",
            "|VIA APPIA FIP CB|DIANA CZERESNIA W...|   22062233841|    150000.0|04/11/2024|    150.0|     0.0|0.0|         PF|\n",
            "|VIA APPIA FIP CB|MIGUEL CARLOS RIELLA|   23382953900|    600000.0|04/15/2024|    600.0|     0.0|0.0|         PF|\n",
            "|VIA APPIA FIP CB|JOAO VINICIUS PRI...|   24848181810|    300000.0|04/11/2024|    300.0|     0.0|0.0|         PF|\n",
            "|VIA APPIA FIP CB|         RENE GELMAN|   25750502864|    250000.0|04/15/2024|    250.0|     0.0|0.0|         PF|\n",
            "+----------------+--------------------+--------------+------------+----------+---------+--------+---+-----------+\n",
            "only showing top 50 rows\n",
            "\n"
          ]
        }
      ]
    },
    {
      "cell_type": "markdown",
      "source": [
        "### Valor Total do Fundo"
      ],
      "metadata": {
        "id": "EeNPqEGC0DxU"
      }
    },
    {
      "cell_type": "code",
      "source": [
        "df_posicaocotistas.createOrReplaceTempView(\"posicaoconsolidada\")\n",
        "\n",
        "consolidada = spark.sql(\"\"\"\n",
        "SELECT\n",
        "  NomeCCrt AS CD_FUNDO,\n",
        "  CAST(SUM(SaldoInveAtual)AS DECIMAL(12,2)) AS SaldoInveAtual,\n",
        "  CAST(SUM(ValorAtu) AS DECIMAL(12,2)) AS VL_PATRIMONIO_FECHAMENTO_TOTAL,\n",
        "  CAST(SUM(ValorLiq) AS DECIMAL(12,2)) AS ValorLiq,\n",
        "  CAST(SUM(IR) AS DECIMAL(12,2)) AS IR,\n",
        "  CAST(SUM(IOF) AS DECIMAL(12,2)) AS IOF,\n",
        "  CAST(SUM(Investimento) AS DECIMAL(12,2)) AS Investimento,\n",
        "  CAST(SUM(SaldoCotas) AS DECIMAL(18,8)) AS QT_COTAS_FECHAMENTO_TOTAL,\n",
        "  CotaAtual AS VL_COTA_FECHAMENTO\n",
        "FROM posicaoconsolidada\n",
        "GROUP BY NomeCCrt, CotaAtual\n",
        "      \"\"\")\n",
        "\n",
        "consolidada.show()"
      ],
      "metadata": {
        "colab": {
          "base_uri": "https://localhost:8080/"
        },
        "id": "79RB461l0Its",
        "outputId": "59cab0a9-45ef-42fa-eebb-6744a31a7780"
      },
      "execution_count": 291,
      "outputs": [
        {
          "output_type": "stream",
          "name": "stdout",
          "text": [
            "+----------------+--------------+------------------------------+-------------+-----------+----+------------+-------------------------+------------------+\n",
            "|        CD_FUNDO|SaldoInveAtual|VL_PATRIMONIO_FECHAMENTO_TOTAL|     ValorLiq|         IR| IOF|Investimento|QT_COTAS_FECHAMENTO_TOTAL|VL_COTA_FECHAMENTO|\n",
            "+----------------+--------------+------------------------------+-------------+-----------+----+------------+-------------------------+------------------+\n",
            "|VIA APPIA FIP CB| 1120700589.15|                 1257248435.59|1232652768.24|24595667.35|0.00|841600589.15|          841594.33332999|     1493.88890325|\n",
            "+----------------+--------------+------------------------------+-------------+-----------+----+------------+-------------------------+------------------+\n",
            "\n"
          ]
        }
      ]
    },
    {
      "cell_type": "markdown",
      "source": [
        "Exporta dataframe movimento para o Google Drive"
      ],
      "metadata": {
        "id": "BgpuUPNm0uoa"
      }
    },
    {
      "cell_type": "code",
      "source": [
        "from datetime import datetime\n",
        "from google.colab import drive\n",
        "import os\n",
        "import shutil\n",
        "import pandas as pd\n",
        "# Certifique-se de que openpyxl está instalado para escrever arquivos .xlsx\n",
        "!pip install openpyxl\n",
        "\n",
        "agora = datetime.now()\n",
        "\n",
        "# Formatar a data e hora em uma string adequada para nome de arquivo\n",
        "formato_data_hora = agora.strftime(\"_%Y%m%d_%H%M%S\")\n",
        "\n",
        "# Montar o Google Drive (já feito em células anteriores, mas pode ser repetido por segurança)\n",
        "# drive.mount('/content/drive')\n",
        "\n",
        "# Definir o caminho de saída para o arquivo XLSX\n",
        "# O nome do arquivo incluirá a data e hora\n",
        "caminho_base_saida = '/content/drive/My Drive/SaidaJCOT/'\n",
        "nome_arquivo_xlsx = f\"movimento_cotistas_daycoval{formato_data_hora}.xlsx\"\n",
        "caminho_saida_movimento_xlsx = caminho_base_saida + nome_arquivo_xlsx\n",
        "\n",
        "# Convert the PySpark DataFrame 'movimento' to a Pandas DataFrame\n",
        "# Ensure 'movimento' is the correct DataFrame you want to export.\n",
        "# This step can be memory intensive for large DataFrames.\n",
        "try:\n",
        "    # Coalesce to a single partition before converting to reduce memory pressure\n",
        "    # on a single worker/driver if the PySpark DataFrame is partitioned.\n",
        "    # However, be aware that coalescing can be slow for large DataFrames.\n",
        "    # If the DataFrame is already small, you might skip coalesce(1).\n",
        "    pandas_df_movimento = movimento.toPandas()\n",
        "    print(\"DataFrame PySpark convertido para Pandas com sucesso.\")\n",
        "\n",
        "    # Save the Pandas DataFrame to an XLSX file\n",
        "    pandas_df_movimento.to_excel(caminho_saida_movimento_xlsx, index=False) # index=False avoids writing the DataFrame index as a column\n",
        "    print(f\"\\nDataFrame 'movimento' salvo com sucesso em: {caminho_saida_movimento_xlsx}\")\n",
        "\n",
        "except Exception as e:\n",
        "    print(f\"\\nErro ao converter ou salvar o DataFrame: {str(e)}\")\n",
        "\n",
        "# Note: Since we are writing directly to an XLSX file using Pandas,\n",
        "# there is no temporary directory created by PySpark's write method,\n",
        "# so no need to remove a directory afterwards."
      ],
      "metadata": {
        "id": "iOv3Xz-6uOSS",
        "colab": {
          "base_uri": "https://localhost:8080/"
        },
        "outputId": "99093806-7afe-4c48-b964-6b14f1cf1f62"
      },
      "execution_count": null,
      "outputs": [
        {
          "output_type": "stream",
          "name": "stdout",
          "text": [
            "Requirement already satisfied: openpyxl in /usr/local/lib/python3.11/dist-packages (3.1.5)\n",
            "Requirement already satisfied: et-xmlfile in /usr/local/lib/python3.11/dist-packages (from openpyxl) (2.0.0)\n",
            "DataFrame PySpark convertido para Pandas com sucesso.\n",
            "\n",
            "DataFrame 'movimento' salvo com sucesso em: /content/drive/My Drive/SaidaJCOT/movimento_cotistas_daycoval_20250520_174144.xlsx\n"
          ]
        }
      ]
    },
    {
      "cell_type": "code",
      "source": [
        "from datetime import datetime\n",
        "from google.colab import drive\n",
        "import os\n",
        "import shutil\n",
        "import pandas as pd\n",
        "# Certifique-se de que openpyxl está instalado para escrever arquivos .xlsx\n",
        "!pip install openpyxl\n",
        "\n",
        "agora = datetime.now()\n",
        "\n",
        "# Formatar a data e hora em uma string adequada para nome de arquivo\n",
        "formato_data_hora = agora.strftime(\"_%Y%m%d_%H%M%S\")\n",
        "\n",
        "# Montar o Google Drive (já feito em células anteriores, mas pode ser repetido por segurança)\n",
        "# drive.mount('/content/drive')\n",
        "\n",
        "# Definir o caminho de saída para o arquivo XLSX\n",
        "# O nome do arquivo incluirá a data e hora\n",
        "caminho_base_saida = '/content/drive/My Drive/SaidaJCOT/'\n",
        "nome_arquivo_xlsx = f\"cotista_daycoval{formato_data_hora}.xlsx\"\n",
        "caminho_saida_cotista_xlsx = caminho_base_saida + nome_arquivo_xlsx\n",
        "\n",
        "# Convert the PySpark DataFrame 'movimento' to a Pandas DataFrame\n",
        "# Ensure 'movimento' is the correct DataFrame you want to export.\n",
        "# This step can be memory intensive for large DataFrames.\n",
        "try:\n",
        "    # Coalesce to a single partition before converting to reduce memory pressure\n",
        "    # on a single worker/driver if the PySpark DataFrame is partitioned.\n",
        "    # However, be aware that coalescing can be slow for large DataFrames.\n",
        "    # If the DataFrame is already small, you might skip coalesce(1).\n",
        "    pandas_df_cotista = df_cotista.toPandas()\n",
        "    print(\"DataFrame PySpark convertido para Pandas com sucesso.\")\n",
        "\n",
        "    # Save the Pandas DataFrame to an XLSX file\n",
        "    pandas_df_cotista.to_excel(caminho_saida_cotista_xlsx, index=False) # index=False avoids writing the DataFrame index as a column\n",
        "    print(f\"\\nDataFrame 'cotista' salvo com sucesso em: {caminho_saida_cotista_xlsx}\")\n",
        "\n",
        "except Exception as e:\n",
        "    print(f\"\\nErro ao converter ou salvar o DataFrame: {str(e)}\")\n",
        "\n",
        "# Note: Since we are writing directly to an XLSX file using Pandas,\n",
        "# there is no temporary directory created by PySpark's write method,\n",
        "# so no need to remove a directory afterwards."
      ],
      "metadata": {
        "id": "BdFFg900z9zm",
        "colab": {
          "base_uri": "https://localhost:8080/"
        },
        "outputId": "13fe63f0-5bec-43d1-c581-9182358bcad5"
      },
      "execution_count": null,
      "outputs": [
        {
          "output_type": "stream",
          "name": "stdout",
          "text": [
            "Requirement already satisfied: openpyxl in /usr/local/lib/python3.11/dist-packages (3.1.5)\n",
            "Requirement already satisfied: et-xmlfile in /usr/local/lib/python3.11/dist-packages (from openpyxl) (2.0.0)\n",
            "DataFrame PySpark convertido para Pandas com sucesso.\n",
            "\n",
            "DataFrame 'cotista' salvo com sucesso em: /content/drive/My Drive/SaidaJCOT/cotista_daycoval_20250520_174152.xlsx\n"
          ]
        }
      ]
    },
    {
      "cell_type": "markdown",
      "source": [
        "### Dados consolidados do fundo"
      ],
      "metadata": {
        "id": "snNtrRvL6Zoh"
      }
    },
    {
      "cell_type": "code",
      "source": [
        "from datetime import datetime\n",
        "from google.colab import drive\n",
        "import os\n",
        "import shutil\n",
        "import pandas as pd\n",
        "# Certifique-se de que openpyxl está instalado para escrever arquivos .xlsx\n",
        "!pip install openpyxl\n",
        "\n",
        "agora = datetime.now()\n",
        "\n",
        "# Formatar a data e hora em uma string adequada para nome de arquivo\n",
        "formato_data_hora = agora.strftime(\"_%Y%m%d_%H%M%S\")\n",
        "\n",
        "\n",
        "# Definir o caminho de saída para o arquivo XLSX\n",
        "# O nome do arquivo incluirá a data e hora\n",
        "caminho_base_saida = '/content/drive/My Drive/SaidaJCOT/'\n",
        "nome_arquivo_xlsx = f\"fundo_consolidado{formato_data_hora}.xlsx\"\n",
        "caminho_saida_consolidada_xlsx = caminho_base_saida + nome_arquivo_xlsx\n",
        "\n",
        "# Convert the PySpark DataFrame 'consolidada' to a Pandas DataFrame\n",
        "# Ensure 'consolidada' is the correct DataFrame you want to export.\n",
        "# This step can be memory intensive for large DataFrames.\n",
        "try:\n",
        "    # Coalesce to a single partition before converting to reduce memory pressure\n",
        "    pandas_consolidada = consolidada.toPandas()\n",
        "    print(\"DataFrame PySpark convertido para Pandas com sucesso.\")\n",
        "\n",
        "    # Save the Pandas DataFrame to an XLSX file\n",
        "    pandas_consolidada.to_excel(caminho_saida_consolidada_xlsx, index=False) # index=False avoids writing the DataFrame index as a column\n",
        "    print(f\"\\nDataFrame 'cotista' salvo com sucesso em: {caminho_saida_consolidada_xlsx}\")\n",
        "\n",
        "except Exception as e:\n",
        "    print(f\"\\nErro ao converter ou salvar o DataFrame: {str(e)}\")\n",
        "\n",
        "# Note: Since we are writing directly to an XLSX file using Pandas,\n",
        "# there is no temporary directory created by PySpark's write method,\n",
        "# so no need to remove a directory afterwards."
      ],
      "metadata": {
        "id": "NduWyo776d0Z",
        "colab": {
          "base_uri": "https://localhost:8080/"
        },
        "outputId": "80858c79-bafa-4dc0-8617-a397ce747e1b"
      },
      "execution_count": 288,
      "outputs": [
        {
          "output_type": "stream",
          "name": "stdout",
          "text": [
            "Requirement already satisfied: openpyxl in /usr/local/lib/python3.11/dist-packages (3.1.5)\n",
            "Requirement already satisfied: et-xmlfile in /usr/local/lib/python3.11/dist-packages (from openpyxl) (2.0.0)\n",
            "DataFrame PySpark convertido para Pandas com sucesso.\n",
            "\n",
            "DataFrame 'cotista' salvo com sucesso em: /content/drive/My Drive/SaidaJCOT/fundo_consolidado_20250520_184417.xlsx\n"
          ]
        }
      ]
    }
  ]
}